{
  "nbformat": 4,
  "nbformat_minor": 0,
  "metadata": {
    "colab": {
      "provenance": [],
      "authorship_tag": "ABX9TyOJgse2RzzAxKw2hyq4mN/6",
      "include_colab_link": true
    },
    "kernelspec": {
      "name": "python3",
      "display_name": "Python 3"
    },
    "language_info": {
      "name": "python"
    }
  },
  "cells": [
    {
      "cell_type": "markdown",
      "metadata": {
        "id": "view-in-github",
        "colab_type": "text"
      },
      "source": [
        "<a href=\"https://colab.research.google.com/github/giancarlohc/Applied-AI-in-Transportation/blob/main/Project/ProjectCode.ipynb\" target=\"_parent\"><img src=\"https://colab.research.google.com/assets/colab-badge.svg\" alt=\"Open In Colab\"/></a>"
      ]
    },
    {
      "cell_type": "code",
      "execution_count": 6,
      "metadata": {
        "id": "EZectnFkmYWq"
      },
      "outputs": [],
      "source": [
        "import pandas as pd\n",
        "import numpy as np\n",
        "import matplotlib.pyplot as plt\n",
        "\n",
        "url = \"https://raw.githubusercontent.com/giancarlohc/Applied-AI-in-Transportation/main/ProjectAssignmentData/Dataset-PT.csv\"\n",
        "dataset = pd.read_csv(url,skiprows=[0])"
      ]
    },
    {
      "cell_type": "code",
      "source": [
        "np.mean(dataset)"
      ],
      "metadata": {
        "colab": {
          "base_uri": "https://localhost:8080/"
        },
        "id": "rEl8TvMGsK3X",
        "outputId": "ea1114e9-8cb1-4289-97e7-39698418e727"
      },
      "execution_count": 7,
      "outputs": [
        {
          "output_type": "stream",
          "name": "stderr",
          "text": [
            "/usr/local/lib/python3.10/dist-packages/numpy/core/fromnumeric.py:3430: FutureWarning: In a future version, DataFrame.mean(axis=None) will return a scalar mean over the entire DataFrame. To retain the old behavior, use 'frame.mean(axis=0)' or just 'frame.mean()'\n",
            "  return mean(axis=axis, dtype=dtype, out=out, **kwargs)\n",
            "/usr/local/lib/python3.10/dist-packages/numpy/core/fromnumeric.py:3430: FutureWarning: The default value of numeric_only in DataFrame.mean is deprecated. In a future version, it will default to False. In addition, specifying 'numeric_only=None' is deprecated. Select only valid columns or specify the value of numeric_only to silence this warning.\n",
            "  return mean(axis=axis, dtype=dtype, out=out, **kwargs)\n"
          ]
        },
        {
          "output_type": "execute_result",
          "data": {
            "text/plain": [
              "Calendar_date                        2.022036e+07\n",
              "route_id                             4.000000e+00\n",
              "bus_id                               4.296080e+04\n",
              "stop_sequence                        1.400000e+01\n",
              "arrival_delay                        1.349722e+02\n",
              "dwell_time                           3.199467e+01\n",
              "travel_time_for_previous_section     7.144097e+01\n",
              "scheduled_travel_time                1.059184e+02\n",
              "upstream_stop_delay                  1.356519e+02\n",
              "origin_delay                         7.510724e+01\n",
              "previous_bus_delay                   1.343793e+02\n",
              "previous_trip_travel_time            7.318384e+01\n",
              "traffic_condition                    7.315493e+01\n",
              "recurrent_delay                      7.275001e+01\n",
              "factor(weather)Light_Rain            2.446877e-02\n",
              "factor(weather)Light_Snow            1.783149e-02\n",
              "factor(weather)Normal                9.447224e-01\n",
              "factor(weather)Rain                  6.191490e-03\n",
              "factor(weather)Snow                  6.785873e-03\n",
              "factor(temperature)Cold              1.127347e-01\n",
              "factor(temperature)Extra_cold        1.793056e-02\n",
              "factor(temperature)Normal            8.693348e-01\n",
              "factor(day_of_week)weekday           7.671009e-01\n",
              "factor(day_of_week)weekend           2.328991e-01\n",
              "factor(time_of_day)Afternoon_peak    2.086780e-01\n",
              "factor(time_of_day)Morning_peak      1.648918e-01\n",
              "factor(time_of_day)Off-peak          6.264302e-01\n",
              "dtype: float64"
            ]
          },
          "metadata": {},
          "execution_count": 7
        }
      ]
    },
    {
      "cell_type": "code",
      "source": [
        "plt.hist(dataset[\"arrival_delay\"])"
      ],
      "metadata": {
        "id": "tfHyZhzju7oT",
        "outputId": "a004905f-26b5-4f5a-82c4-e0729369f2fd",
        "colab": {
          "base_uri": "https://localhost:8080/",
          "height": 519
        }
      },
      "execution_count": 9,
      "outputs": [
        {
          "output_type": "execute_result",
          "data": {
            "text/plain": [
              "(array([2.70000e+01, 0.00000e+00, 1.00000e+00, 7.00000e+01, 1.18000e+02,\n",
              "        4.97970e+04, 4.70278e+05, 2.39390e+04, 7.75000e+02, 9.80000e+01]),\n",
              " array([-3493., -2918., -2343., -1768., -1193.,  -618.,   -43.,   532.,\n",
              "         1107.,  1682.,  2257.]),\n",
              " <BarContainer object of 10 artists>)"
            ]
          },
          "metadata": {},
          "execution_count": 9
        },
        {
          "output_type": "display_data",
          "data": {
            "text/plain": [
              "<Figure size 640x480 with 1 Axes>"
            ],
            "image/png": "[encoded data removed]"
          },
          "metadata": {}
        }
      ]
    }
  ]
}